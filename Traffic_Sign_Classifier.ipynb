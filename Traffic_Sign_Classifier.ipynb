{
 "cells": [
  {
   "cell_type": "markdown",
   "metadata": {},
   "source": [
    "# Self-Driving Car Engineer Nanodegree\n",
    "\n",
    "## Deep Learning\n",
    "\n",
    "## Project: Build a Traffic Sign Recognition Classifier\n",
    "\n",
    "In this notebook, a template is provided for you to implement your functionality in stages which is required to successfully complete this project. If additional code is required that cannot be included in the notebook, be sure that the Python code is successfully imported and included in your submission, if necessary. Sections that begin with **'Implementation'** in the header indicate where you should begin your implementation for your project. Note that some sections of implementation are optional, and will be marked with **'Optional'** in the header.\n",
    "\n",
    "In addition to implementing code, there will be questions that you must answer which relate to the project and your implementation. Each section where you will answer a question is preceded by a **'Question'** header. Carefully read each question and provide thorough answers in the following text boxes that begin with **'Answer:'**. Your project submission will be evaluated based on your answers to each of the questions and the implementation you provide.\n",
    "\n",
    ">**Note:** Code and Markdown cells can be executed using the **Shift + Enter** keyboard shortcut. In addition, Markdown cells can be edited by typically double-clicking the cell to enter edit mode."
   ]
  },
  {
   "cell_type": "markdown",
   "metadata": {},
   "source": [
    "---\n",
    "## Step 0: Load The Data"
   ]
  },
  {
   "cell_type": "code",
   "execution_count": 1,
   "metadata": {
    "collapsed": true
   },
   "outputs": [],
   "source": [
    "# Load pickled data\n",
    "import pickle\n",
    "\n",
    "# TODO: Fill this in based on where you saved the training and testing data\n",
    "\n",
    "training_file = 'data/train.p'\n",
    "testing_file  = 'data/test.p'\n",
    "\n",
    "with open(training_file, mode='rb') as f:\n",
    "    train = pickle.load(f)\n",
    "with open(testing_file, mode='rb') as f:\n",
    "    test = pickle.load(f)\n",
    "    \n",
    "X_train, y_train = train['features'], train['labels']\n",
    "X_test, y_test = test['features'], test['labels']"
   ]
  },
  {
   "cell_type": "markdown",
   "metadata": {},
   "source": [
    "---\n",
    "\n",
    "## Step 1: Dataset Summary & Exploration\n",
    "\n",
    "The pickled data is a dictionary with 4 key/value pairs:\n",
    "\n",
    "- `'features'` is a 4D array containing raw pixel data of the traffic sign images, (num examples, width, height, channels).\n",
    "- `'labels'` is a 2D array containing the label/class id of the traffic sign. The file `signnames.csv` contains id -> name mappings for each id.\n",
    "- `'sizes'` is a list containing tuples, (width, height) representing the the original width and height the image.\n",
    "- `'coords'` is a list containing tuples, (x1, y1, x2, y2) representing coordinates of a bounding box around the sign in the image. **THESE COORDINATES ASSUME THE ORIGINAL IMAGE. THE PICKLED DATA CONTAINS RESIZED VERSIONS (32 by 32) OF THESE IMAGES**\n",
    "\n",
    "Complete the basic data summary below."
   ]
  },
  {
   "cell_type": "code",
   "execution_count": 2,
   "metadata": {
    "collapsed": false
   },
   "outputs": [
    {
     "name": "stdout",
     "output_type": "stream",
     "text": [
      "Number of training examples = 39209\n",
      "Number of testing examples = 12630\n",
      "Image data shape = (32, 32, 3)\n",
      "Number of classes = 43\n"
     ]
    }
   ],
   "source": [
    "import numpy\n",
    "\n",
    "### Replace each question mark with the appropriate value.\n",
    "\n",
    "# TODO: Number of training examples\n",
    "n_train = X_train.shape[0]\n",
    "\n",
    "# TODO: Number of testing examples.\n",
    "n_test = X_test.shape[0]\n",
    "\n",
    "# TODO: What's the shape of an traffic sign image?\n",
    "image_shape = X_test.shape[1:]\n",
    "\n",
    "# TODO: How many unique classes/labels there are in the dataset.\n",
    "y_unique, counts = numpy.unique(y_train, return_counts=True)\n",
    "n_classes = y_unique.shape[0]\n",
    "\n",
    "print(\"Number of training examples =\", n_train)\n",
    "print(\"Number of testing examples =\", n_test)\n",
    "print(\"Image data shape =\", image_shape)\n",
    "print(\"Number of classes =\", n_classes)"
   ]
  },
  {
   "cell_type": "markdown",
   "metadata": {},
   "source": [
    "Visualize the German Traffic Signs Dataset using the pickled file(s). This is open ended, suggestions include: plotting traffic sign images, plotting the count of each sign, etc.\n",
    "\n",
    "The [Matplotlib](http://matplotlib.org/) [examples](http://matplotlib.org/examples/index.html) and [gallery](http://matplotlib.org/gallery.html) pages are a great resource for doing visualizations in Python.\n",
    "\n",
    "**NOTE:** It's recommended you start with something simple first. If you wish to do more, come back to it after you've completed the rest of the sections."
   ]
  },
  {
   "cell_type": "code",
   "execution_count": 3,
   "metadata": {
    "collapsed": false
   },
   "outputs": [
    {
     "data": {
      "image/png": "[encoded data removed]",
      "text/plain": [
       "<matplotlib.figure.Figure at 0x2c85a908d68>"
      ]
     },
     "metadata": {},
     "output_type": "display_data"
    },
    {
     "data": {
      "image/png": "[encoded data removed]",
      "text/plain": [
       "<matplotlib.figure.Figure at 0x2c85c48ae10>"
      ]
     },
     "metadata": {},
     "output_type": "display_data"
    },
    {
     "data": {
      "image/png": "[encoded data removed]",
      "text/plain": [
       "<matplotlib.figure.Figure at 0x2c85c5daa58>"
      ]
     },
     "metadata": {},
     "output_type": "display_data"
    }
   ],
   "source": [
    "### Data exploration visualization goes here.\n",
    "### Feel free to use as many code cells as needed.\n",
    "import matplotlib.pyplot as plt\n",
    "# Visualizations will be shown in the notebook.\n",
    "%matplotlib inline\n",
    "\n",
    "plt.figure(1)\n",
    "plt.bar(y_unique, counts)\n",
    "plt.xlabel('x')\n",
    "plt.ylabel('y')\n",
    "plt.title('Labels Count')\n",
    "\n",
    "plt.figure(2)\n",
    "bins = [x*50 for x in range(0, 50)]\n",
    "plt.hist(counts, bins, histtype='bar', rwidth=0.8)\n",
    "plt.xlabel('x')\n",
    "plt.ylabel('y')\n",
    "plt.title('Count Distribution')\n",
    "\n",
    "plt.figure(3)\n",
    "plt.bar(y_unique, numpy.sort(counts))\n",
    "plt.xlabel('x')\n",
    "plt.ylabel('y')\n",
    "plt.title('Labels Distribution')\n",
    "\n",
    "plt.show()"
   ]
  },
  {
   "cell_type": "markdown",
   "metadata": {},
   "source": [
    "----\n",
    "\n",
    "## Step 2: Design and Test a Model Architecture\n",
    "\n",
    "Design and implement a deep learning model that learns to recognize traffic signs. Train and test your model on the [German Traffic Sign Dataset](http://benchmark.ini.rub.de/?section=gtsrb&subsection=dataset).\n",
    "\n",
    "There are various aspects to consider when thinking about this problem:\n",
    "\n",
    "- Neural network architecture\n",
    "- Play around preprocessing techniques (normalization, rgb to grayscale, etc)\n",
    "- Number of examples per label (some have more than others).\n",
    "- Generate fake data.\n",
    "\n",
    "Here is an example of a [published baseline model on this problem](http://yann.lecun.com/exdb/publis/pdf/sermanet-ijcnn-11.pdf). It's not required to be familiar with the approach used in the paper but, it's good practice to try to read papers like these.\n",
    "\n",
    "**NOTE:** The LeNet-5 implementation shown in the [classroom](https://classroom.udacity.com/nanodegrees/nd013/parts/fbf77062-5703-404e-b60c-95b78b2f3f9e/modules/6df7ae49-c61c-4bb2-a23e-6527e69209ec/lessons/601ae704-1035-4287-8b11-e2c2716217ad/concepts/d4aca031-508f-4e0b-b493-e7b706120f81) at the end of the CNN lesson is a solid starting point. You'll have to change the number of classes and possibly the preprocessing, but aside from that it's plug and play!"
   ]
  },
  {
   "cell_type": "markdown",
   "metadata": {},
   "source": [
    "### Implementation\n",
    "\n",
    "Use the code cell (or multiple code cells, if necessary) to implement the first step of your project. Once you have completed your implementation and are satisfied with the results, be sure to thoroughly answer the questions that follow."
   ]
  },
  {
   "cell_type": "code",
   "execution_count": 4,
   "metadata": {
    "collapsed": false
   },
   "outputs": [],
   "source": [
    "# the label that has less than 1000 samples and the difference to 1000\n",
    "\n"
   ]
  },
  {
   "cell_type": "code",
   "execution_count": 5,
   "metadata": {
    "collapsed": false
   },
   "outputs": [
    {
     "name": "stdout",
     "output_type": "stream",
     "text": [
      "<class 'numpy.ndarray'> (39209, 32, 32, 3)\n",
      "<class 'numpy.ndarray'> (39209, 32, 32, 3) 0.9921875 -1.0\n"
     ]
    }
   ],
   "source": [
    "np = numpy\n",
    "\n",
    "### Preprocess the data here.\n",
    "\n",
    "### Feel free to use as many code cells as needed.\n",
    "\n",
    "# grayscale it\n",
    "# linear map all data points to [-1, 1]\n",
    "print(type(X_train), X_train.shape)\n",
    "\n",
    "def linear_map(data):\n",
    "    return np.interp(data, [0, 256], [-1, 1])\n",
    "\n",
    "def softmaxize(data):\n",
    "    ret = np.zeros((data.shape[0], 43))\n",
    "    for i, datum in enumerate(data):\n",
    "        probabilities = np.zeros(43)\n",
    "        probabilities[datum] = 1\n",
    "        ret[i] = probabilities\n",
    "    return ret\n",
    "\n",
    "def randomize_with_sample_order(samples, labels):\n",
    "    assert len(samples) == len(labels)\n",
    "    permu = np.random.permutation(len(labels))\n",
    "    return samples[permu], labels[permu]\n",
    "\n",
    "X_train_processed = linear_map(X_train)\n",
    "print(type(X_train_processed), X_train_processed.shape, np.max(X_train_processed), np.min(X_train_processed))\n",
    "\n",
    "X_test_processed = linear_map(X_test)\n",
    "\n",
    "# format y to softmax format\n",
    "# we know that y is from 0 to 42\n",
    "y_train_processed = softmaxize(y_train)\n",
    "y_test_processed = softmaxize(y_test)\n"
   ]
  },
  {
   "cell_type": "markdown",
   "metadata": {},
   "source": [
    "### Question 1 \n",
    "\n",
    "_Describe how you preprocessed the data. Why did you choose that technique?_"
   ]
  },
  {
   "cell_type": "markdown",
   "metadata": {},
   "source": [
    "**Answer:**  \n",
    "Grayscaling an image does not loose too much information and also downsizes the input to 1/3 so that a single machine can train bigger batch at once.\n",
    "\n",
    "linear mapping input range from [0, 256] to [-1, 1] does not loose any information (if not taking floating point precision in count), but, makes the input more dense and suitable for gradient descent algorithm to work properly.\n",
    "\n",
    "Center the data at 0 also makes gradient descent work better."
   ]
  },
  {
   "cell_type": "code",
   "execution_count": 6,
   "metadata": {
    "collapsed": false
   },
   "outputs": [
    {
     "name": "stdout",
     "output_type": "stream",
     "text": [
      "{0: 1540, 3: 340, 6: 1330, 7: 310, 8: 340, 9: 280, 11: 430, 14: 970, 15: 1120, 16: 1330, 17: 640, 18: 550, 19: 1540, 20: 1390, 21: 1420, 22: 1360, 23: 1240, 24: 1480, 25: 250, 26: 1150, 27: 1510, 28: 1210, 29: 1480, 30: 1300, 31: 970, 32: 1510, 33: 1061, 34: 1330, 35: 550, 36: 1360, 37: 1540, 39: 1450, 40: 1390, 41: 1510, 42: 1510}\n",
      "38691\n",
      "{0: 0, 3: 0, 6: 0, 7: 0, 8: 0, 9: 0, 11: 0, 14: 0, 15: 0, 16: 0, 17: 0, 18: 0, 19: 0, 20: 0, 21: 0, 22: 0, 23: 0, 24: 0, 25: 0, 26: 0, 27: 0, 28: 0, 29: 0, 30: 0, 31: 0, 32: 0, 33: 0, 34: 0, 35: 0, 36: 0, 37: 0, 39: 0, 40: 0, 41: 0, 42: 0} 38691\n",
      "[ 0  1  2  3  4  5  6  7  8  9 10 11 12 13 14 15 16 17 18 19 20 21 22 23 24\n",
      " 25 26 27 28 29 30 31 32 33 34 35 36 37 38 39 40 41 42] [1750 2220 2250 1750 1980 1860 1750 1750 1750 1750 2010 1750 2100 2160 1750\n",
      " 1750 1750 1750 1750 1750 1750 1750 1750 1750 1750 1750 1750 1750 1750 1750\n",
      " 1750 1750 1750 1750 1750 1750 1750 1750 2070 1750 1750 1750 1750]\n"
     ]
    },
    {
     "data": {
      "image/png": "[encoded data removed]",
      "text/plain": [
       "<matplotlib.figure.Figure at 0x2c85c61fc18>"
      ]
     },
     "metadata": {},
     "output_type": "display_data"
    },
    {
     "data": {
      "image/png": "[encoded data removed]",
      "text/plain": [
       "<matplotlib.figure.Figure at 0x2c85c7de128>"
      ]
     },
     "metadata": {},
     "output_type": "display_data"
    },
    {
     "name": "stdout",
     "output_type": "stream",
     "text": [
      "(77900, 32, 32, 3) (77900, 43)\n"
     ]
    }
   ],
   "source": [
    "### Generate data additional data (OPTIONAL!)\n",
    "### and split the data into training/validation/testing sets here.\n",
    "### Feel free to use as many code cells as needed.\n",
    "\n",
    "less_than_1000 = {i: 1750 - count for i, count in enumerate(counts) if count < 1750}\n",
    "print(less_than_1000)\n",
    "\n",
    "new_train_samples = np.zeros([sum(less_than_1000.values()), 32, 32, 3])\n",
    "new_train_labels  = np.zeros([sum(less_than_1000.values()), 43]) \n",
    "new_index = 0\n",
    "print(sum(less_than_1000.values()))\n",
    "\n",
    "while sum(less_than_1000.values()) > 0:\n",
    "    for sample, label_softmax in zip(X_train_processed, y_train_processed):\n",
    "        label = np.argmax(label_softmax)\n",
    "        if label in less_than_1000 and less_than_1000[label] > 0:\n",
    "            choice = np.random.choice([1, 2, 3, 4])\n",
    "            if choice == 1:\n",
    "                new_train_samples[new_index][3:] = sample[0:29]\n",
    "                new_train_labels[new_index] = label_softmax\n",
    "            if choice == 2:\n",
    "                new_train_samples[new_index][0:29] = sample[3:]\n",
    "                new_train_labels[new_index] = label_softmax\n",
    "            if choice == 3:\n",
    "                new_train_samples[new_index][:,3:] = sample[:,0:29]\n",
    "                new_train_labels[new_index] = label_softmax\n",
    "            if choice == 4:\n",
    "                new_train_samples[new_index][:,0:29] = sample[:,3:]\n",
    "                new_train_labels[new_index] = label_softmax\n",
    "            new_index += 1\n",
    "            less_than_1000[label] -= 1\n",
    "print(less_than_1000, new_index)\n",
    "\n",
    "X_train_processed = np.concatenate((X_train_processed, new_train_samples), axis=0)\n",
    "y_train_processed = np.concatenate((y_train_processed, new_train_labels), axis=0)\n",
    "\n",
    "plt.imshow(new_train_samples[100])\n",
    "\n",
    "unique, new_counts = numpy.unique([np.argmax(x) for x in y_train_processed], return_counts=True)\n",
    "print(unique, new_counts)\n",
    "plt.figure(4)\n",
    "plt.bar(unique, new_counts)\n",
    "plt.xlabel('x')\n",
    "plt.ylabel('y')\n",
    "plt.title('Labels Count')\n",
    "plt.show()\n",
    "\n",
    "X_train_processed, y_train_processed = randomize_with_sample_order(X_train_processed, y_train_processed)\n",
    "X_test_processed, y_test_processed = randomize_with_sample_order(X_test_processed, y_test_processed)\n",
    "\n",
    "print(X_train_processed.shape, y_train_processed.shape)"
   ]
  },
  {
   "cell_type": "markdown",
   "metadata": {},
   "source": [
    "### Question 2\n",
    "\n",
    "_Describe how you set up the training, validation and testing data for your model. **Optional**: If you generated additional data, how did you generate the data? Why did you generate the data? What are the differences in the new dataset (with generated data) from the original dataset?_"
   ]
  },
  {
   "cell_type": "markdown",
   "metadata": {},
   "source": [
    "**Answer:**"
   ]
  },
  {
   "cell_type": "code",
   "execution_count": 13,
   "metadata": {
    "collapsed": false
   },
   "outputs": [],
   "source": [
    "### Define your architecture here.\n",
    "### Feel free to use as many code cells as needed.\n",
    "import tensorflow as tf\n",
    "\n",
    "def MiniNet(dataflow, para, isTrain):\n",
    "    '''\n",
    "    dataflow: expect a tensor/ndarray with shape N 32 32 1\n",
    "    para: a dictionary that holds all parameters for the network\n",
    "    '''\n",
    "    #conv1\n",
    "    dataflow = tf.nn.conv2d(dataflow, filter=para['conv1_w'], strides=[1, 1, 1, 1], padding='SAME', name='conv1')\n",
    "    dataflow = tf.nn.relu(dataflow + para['conv1_b'])\n",
    "    \n",
    "    #conv2\n",
    "    dataflow = tf.nn.conv2d(dataflow, filter=para['conv2_w'], strides=[1, 1, 1, 1], padding='SAME', name='conv2')\n",
    "    dataflow = tf.nn.relu(dataflow + para['conv2_b'])\n",
    "    dataflow = tf.nn.max_pool(dataflow, ksize=[1, 2, 2, 1], strides=[1, 2, 2, 1], padding='SAME')\n",
    "\n",
    "    #conv3\n",
    "    dataflow = tf.nn.conv2d(dataflow, filter=para['conv3_w'], strides=[1, 1, 1, 1], padding='SAME', name='conv3')\n",
    "    dataflow = tf.nn.relu(dataflow + para['conv3_b'])\n",
    "        \n",
    "    #conv4\n",
    "    dataflow = tf.nn.conv2d(dataflow, filter=para['conv4_w'], strides=[1, 1, 1, 1], padding='SAME', name='conv4')\n",
    "    dataflow = tf.nn.relu(dataflow + para['conv4_b'])\n",
    "    dataflow = tf.nn.max_pool(dataflow, ksize=[1, 2, 2, 1], strides=[1, 2, 2, 1], padding='SAME')\n",
    "    \n",
    "    # reshape\n",
    "    shape = dataflow.get_shape().as_list()\n",
    "    dataflow = tf.reshape(dataflow, [shape[0], shape[1] * shape[2] * shape[3]])\n",
    "    \n",
    "    # fc1\n",
    "    dataflow = tf.matmul(dataflow, para['fc1_w'])\n",
    "    dataflow = tf.nn.relu(dataflow + para['fc1_b'])\n",
    "    \n",
    "    # dropout\n",
    "    if isTrain:\n",
    "        dataflow = tf.nn.dropout(dataflow, 0.85, seed=4926)\n",
    "    \n",
    "    # fc2\n",
    "    return tf.matmul(dataflow, para['fc2_w']) + para['fc2_b']\n",
    "\n",
    "    \n",
    "def train(samples, labels, parameters):\n",
    "    logits = MiniNet(samples, parameters, isTrain=True)\n",
    "    \n",
    "    # Loss\n",
    "    loss = tf.reduce_mean(tf.nn.softmax_cross_entropy_with_logits(logits, labels))\n",
    "    regularization = tf.nn.l2_loss(parameters['fc1_w']) + tf.nn.l2_loss(parameters['fc1_b']) \\\n",
    "                   + tf.nn.l2_loss(parameters['fc2_w']) + tf.nn.l2_loss(parameters['fc2_b'])\n",
    "    loss += 5e-4 * regularization\n",
    "\n",
    "    # learning rate decay\n",
    "    global_step = tf.Variable(0)\n",
    "    lr = 0.0011\n",
    "    dr = 0.99\n",
    "    learning_rate = tf.train.exponential_decay(lr, global_step, 100, dr, staircase=True)\n",
    "\n",
    "    # Optimizer.\n",
    "    optimizer = tf.train.AdamOptimizer(learning_rate) \\\n",
    "        .minimize(loss, global_step=global_step)\n",
    "        \n",
    "    #optimizer = tf.train.AdadeltaOptimizer(learning_rate=0.001, rho=0.95, epsilon=1e-08) \\\n",
    "    #    .minimize(loss, global_step=global_step)\n",
    "    \n",
    "    # Prediction\n",
    "    prediction = tf.nn.softmax(logits)\n",
    "    \n",
    "    return loss, optimizer, prediction\n",
    "\n",
    "def test(samples, parameters):\n",
    "    logits = MiniNet(samples, parameters, isTrain=False)\n",
    "    return tf.nn.softmax(logits)\n",
    "\n",
    "\n",
    "def initialize_parameters():\n",
    "    para = {}\n",
    "    # shape: patch_size, patch_size, in_depth, out_depth\n",
    "    para['conv1_w'] = tf.Variable(tf.truncated_normal([5, 5, 3, 64], stddev=0.1))\n",
    "    para['conv1_b'] = tf.Variable(tf.constant(0.1, shape=[64]))\n",
    "    \n",
    "    para['conv2_w'] = tf.Variable(tf.truncated_normal([5, 5, 64, 64], stddev=0.1))\n",
    "    para['conv2_b'] = tf.Variable(tf.constant(0.1, shape=[64]))\n",
    "    \n",
    "    para['conv3_w'] = tf.Variable(tf.truncated_normal([3, 3, 64, 32], stddev=0.1))\n",
    "    para['conv3_b'] = tf.Variable(tf.constant(0.1, shape=[32]))\n",
    "    \n",
    "    para['conv4_w'] = tf.Variable(tf.truncated_normal([3, 3, 32, 32], stddev=0.1))\n",
    "    para['conv4_b'] = tf.Variable(tf.constant(0.1, shape=[32]))\n",
    "    \n",
    "    # 32 * 32: the size of original image\n",
    "    # // 4 // 4: 2 times of maxpooling of downsizing 0.5 in Width and Height of the original image\n",
    "    in_num_nodes = 32 * 32 // 4 // 4 * 32\n",
    "    \n",
    "    # shape: in_num_nodes, out_num_nodes\n",
    "    para['fc1_w'] = tf.Variable(tf.truncated_normal([in_num_nodes, 512], stddev=0.1))\n",
    "    para['fc1_b'] = tf.Variable(tf.constant(0.1, shape=[512]))\n",
    "    \n",
    "    para['fc2_w'] = tf.Variable(tf.truncated_normal([512, 43], stddev=0.1))\n",
    "    para['fc2_b'] = tf.Variable(tf.constant(0.1, shape=[43]))\n",
    "    return para\n",
    "    \n"
   ]
  },
  {
   "cell_type": "markdown",
   "metadata": {},
   "source": [
    "### Question 3\n",
    "\n",
    "_What does your final architecture look like? (Type of model, layers, sizes, connectivity, etc.)  For reference on how to build a deep neural network using TensorFlow, see [Deep Neural Network in TensorFlow\n",
    "](https://classroom.udacity.com/nanodegrees/nd013/parts/fbf77062-5703-404e-b60c-95b78b2f3f9e/modules/6df7ae49-c61c-4bb2-a23e-6527e69209ec/lessons/b516a270-8600-4f93-a0a3-20dfeabe5da6/concepts/83a3a2a2-a9bd-4b7b-95b0-eb924ab14432) from the classroom._\n"
   ]
  },
  {
   "cell_type": "markdown",
   "metadata": {},
   "source": [
    "**Answer:**  \n",
    "4 layers of convolution:\n",
    "\n",
    "    [3, 3, 1, 64], SAME PADDING\n",
    "    [3, 3, 64, 64], SAME PADDING\n",
    "    MAX POOLING: [1, 2, 2, 1]\n",
    "\n",
    "    [3, 3, 64, 64], SAME PADDING\n",
    "    [3, 3, 64, 64], SAME PADDING\n",
    "    MAX POOLING: [1, 2, 2, 1]\n",
    "\n",
    "2 layers of fully connected:\n",
    "\n",
    "    [64, 128]\n",
    "    [128, 43]\n",
    "    \n",
    "Relu is the only activation function.  \n",
    "Dropout is applied after first fully connected layer during training.\n",
    "\n",
    "Loss: cross entropy loss + l2  \n",
    "Update function: Adagrad  \n",
    "Optimization: exponential learning rate decay is applied."
   ]
  },
  {
   "cell_type": "code",
   "execution_count": 14,
   "metadata": {
    "collapsed": false
   },
   "outputs": [
    {
     "name": "stdout",
     "output_type": "stream",
     "text": [
      "Minibatch loss at step 0: 39.034439\n",
      "Minibatch accuracy: 3.1%\n",
      "Minibatch loss at step 50: 5.294200\n",
      "Minibatch accuracy: 9.4%\n",
      "Minibatch loss at step 100: 4.560254\n",
      "Minibatch accuracy: 25.0%\n",
      "Minibatch loss at step 150: 3.812207\n",
      "Minibatch accuracy: 32.8%\n",
      "Minibatch loss at step 200: 3.097264\n",
      "Minibatch accuracy: 51.6%\n",
      "Minibatch loss at step 250: 2.737915\n",
      "Minibatch accuracy: 68.8%\n",
      "Minibatch loss at step 300: 2.236373\n",
      "Minibatch accuracy: 78.1%\n",
      "Minibatch loss at step 350: 2.357289\n",
      "Minibatch accuracy: 75.0%\n",
      "Minibatch loss at step 400: 2.042986\n",
      "Minibatch accuracy: 84.4%\n",
      "Minibatch loss at step 450: 1.843307\n",
      "Minibatch accuracy: 87.5%\n",
      "Minibatch loss at step 500: 1.754210\n",
      "Minibatch accuracy: 87.5%\n",
      "Minibatch loss at step 550: 1.742426\n",
      "Minibatch accuracy: 87.5%\n",
      "Minibatch loss at step 600: 1.637753\n",
      "Minibatch accuracy: 92.2%\n",
      "Minibatch loss at step 650: 1.792819\n",
      "Minibatch accuracy: 85.9%\n",
      "Minibatch loss at step 700: 1.435492\n",
      "Minibatch accuracy: 92.2%\n",
      "Minibatch loss at step 750: 1.379953\n",
      "Minibatch accuracy: 95.3%\n",
      "Minibatch loss at step 800: 1.262021\n",
      "Minibatch accuracy: 100.0%\n",
      "Minibatch loss at step 850: 1.565013\n",
      "Minibatch accuracy: 87.5%\n",
      "Minibatch loss at step 900: 1.231104\n",
      "Minibatch accuracy: 98.4%\n",
      "Minibatch loss at step 950: 1.311390\n",
      "Minibatch accuracy: 95.3%\n",
      "Minibatch loss at step 1000: 1.383400\n",
      "Minibatch accuracy: 90.6%\n",
      "Minibatch loss at step 1050: 1.193802\n",
      "Minibatch accuracy: 93.8%\n",
      "Minibatch loss at step 1100: 1.209597\n",
      "Minibatch accuracy: 98.4%\n",
      "Minibatch loss at step 1150: 1.239184\n",
      "Minibatch accuracy: 90.6%\n",
      "Minibatch loss at step 1200: 1.046509\n",
      "Minibatch accuracy: 98.4%\n",
      "Minibatch loss at step 1250: 1.107411\n",
      "Minibatch accuracy: 96.9%\n",
      "Minibatch loss at step 1300: 0.978582\n",
      "Minibatch accuracy: 98.4%\n",
      "Minibatch loss at step 1350: 0.981294\n",
      "Minibatch accuracy: 96.9%\n",
      "Minibatch loss at step 1400: 0.921410\n",
      "Minibatch accuracy: 100.0%\n",
      "Minibatch loss at step 1450: 0.899570\n",
      "Minibatch accuracy: 100.0%\n"
     ]
    }
   ],
   "source": [
    "### Train your model here.\n",
    "### Feel free to use as many code cells as needed.\n",
    "\n",
    "parameters = initialize_parameters()\n",
    "\n",
    "batch_size = 64\n",
    "steps = 1500\n",
    "\n",
    "train_samples = tf.placeholder(tf.float32, shape=(batch_size, 32, 32, 3))\n",
    "train_labels  = tf.placeholder(tf.float32, shape=(batch_size, 43))\n",
    "loss, optimizer, train_prediction = train(train_samples, train_labels, parameters)\n",
    "\n",
    "test_samples = tf.placeholder(tf.float32, shape=(1000, 32, 32, 3))\n",
    "test_prediction = test(test_samples, parameters)\n",
    "\n",
    "def accuracy(predictions, labels):\n",
    "    _predictions = np.argmax(predictions, 1)\n",
    "    _labels = np.argmax(labels, 1)\n",
    "    return (100.0 * np.sum(_predictions == _labels) / predictions.shape[0])\n",
    "\n",
    "with tf.Session() as sess:\n",
    "    tf.global_variables_initializer().run()\n",
    "    for step in range(steps):\n",
    "        offset = (step * batch_size) % (y_train_processed.shape[0] - batch_size)\n",
    "        batch_data = X_train_processed[offset:(offset + batch_size), :, :, :]\n",
    "        batch_labels = y_train_processed[offset:(offset + batch_size), :]\n",
    "        feed_dict = {\n",
    "            train_samples: batch_data,\n",
    "            train_labels:  batch_labels\n",
    "        }\n",
    "        _, l, predictions = sess.run([optimizer, loss, train_prediction], feed_dict=feed_dict)\n",
    "        accu  = accuracy(predictions, batch_labels)\n",
    "\n",
    "        if (step % 50 == 0):\n",
    "            print('Minibatch loss at step %d: %f' % (step, l))\n",
    "            print('Minibatch accuracy: %.1f%%' % accu)"
   ]
  },
  {
   "cell_type": "markdown",
   "metadata": {},
   "source": [
    "### Question 4\n",
    "\n",
    "_How did you train your model? (Type of optimizer, batch size, epochs, hyperparameters, etc.)_\n"
   ]
  },
  {
   "cell_type": "markdown",
   "metadata": {},
   "source": [
    "**Answer:**"
   ]
  },
  {
   "cell_type": "markdown",
   "metadata": {},
   "source": [
    "### Question 5\n",
    "\n",
    "\n",
    "_What approach did you take in coming up with a solution to this problem? It may have been a process of trial and error, in which case, outline the steps you took to get to the final solution and why you chose those steps. Perhaps your solution involved an already well known implementation or architecture. In this case, discuss why you think this is suitable for the current problem._"
   ]
  },
  {
   "cell_type": "markdown",
   "metadata": {},
   "source": [
    "**Answer:**"
   ]
  },
  {
   "cell_type": "markdown",
   "metadata": {},
   "source": [
    "---\n",
    "\n",
    "## Step 3: Test a Model on New Images\n",
    "\n",
    "Take several pictures of traffic signs that you find on the web or around you (at least five), and run them through your classifier on your computer to produce example results. The classifier might not recognize some local signs but it could prove interesting nonetheless.\n",
    "\n",
    "You may find `signnames.csv` useful as it contains mappings from the class id (integer) to the actual sign name."
   ]
  },
  {
   "cell_type": "markdown",
   "metadata": {},
   "source": [
    "### Implementation\n",
    "\n",
    "Use the code cell (or multiple code cells, if necessary) to implement the first step of your project. Once you have completed your implementation and are satisfied with the results, be sure to thoroughly answer the questions that follow."
   ]
  },
  {
   "cell_type": "code",
   "execution_count": null,
   "metadata": {
    "collapsed": true
   },
   "outputs": [],
   "source": [
    "### Load the images and plot them here.\n",
    "### Feel free to use as many code cells as needed."
   ]
  },
  {
   "cell_type": "markdown",
   "metadata": {},
   "source": [
    "### Question 6\n",
    "\n",
    "_Choose five candidate images of traffic signs and provide them in the report. Are there any particular qualities of the image(s) that might make classification difficult? It could be helpful to plot the images in the notebook._\n",
    "\n"
   ]
  },
  {
   "cell_type": "markdown",
   "metadata": {},
   "source": [
    "**Answer:**"
   ]
  },
  {
   "cell_type": "code",
   "execution_count": null,
   "metadata": {
    "collapsed": true
   },
   "outputs": [],
   "source": [
    "### Run the predictions here.\n",
    "### Feel free to use as many code cells as needed."
   ]
  },
  {
   "cell_type": "markdown",
   "metadata": {},
   "source": [
    "### Question 7\n",
    "\n",
    "_Is your model able to perform equally well on captured pictures when compared to testing on the dataset? The simplest way to do this check the accuracy of the predictions. For example, if the model predicted 1 out of 5 signs correctly, it's 20% accurate._\n",
    "\n",
    "_**NOTE:** You could check the accuracy manually by using `signnames.csv` (same directory). This file has a mapping from the class id (0-42) to the corresponding sign name. So, you could take the class id the model outputs, lookup the name in `signnames.csv` and see if it matches the sign from the image._\n"
   ]
  },
  {
   "cell_type": "markdown",
   "metadata": {},
   "source": [
    "**Answer:**"
   ]
  },
  {
   "cell_type": "code",
   "execution_count": null,
   "metadata": {
    "collapsed": true
   },
   "outputs": [],
   "source": [
    "### Visualize the softmax probabilities here.\n",
    "### Feel free to use as many code cells as needed."
   ]
  },
  {
   "cell_type": "markdown",
   "metadata": {},
   "source": [
    "### Question 8\n",
    "\n",
    "*Use the model's softmax probabilities to visualize the **certainty** of its predictions, [`tf.nn.top_k`](https://www.tensorflow.org/versions/r0.12/api_docs/python/nn.html#top_k) could prove helpful here. Which predictions is the model certain of? Uncertain? If the model was incorrect in its initial prediction, does the correct prediction appear in the top k? (k should be 5 at most)*\n",
    "\n",
    "`tf.nn.top_k` will return the values and indices (class ids) of the top k predictions. So if k=3, for each sign, it'll return the 3 largest probabilities (out of a possible 43) and the correspoding class ids.\n",
    "\n",
    "Take this numpy array as an example:\n",
    "\n",
    "```\n",
    "# (5, 6) array\n",
    "a = np.array([[ 0.24879643,  0.07032244,  0.12641572,  0.34763842,  0.07893497,\n",
    "         0.12789202],\n",
    "       [ 0.28086119,  0.27569815,  0.08594638,  0.0178669 ,  0.18063401,\n",
    "         0.15899337],\n",
    "       [ 0.26076848,  0.23664738,  0.08020603,  0.07001922,  0.1134371 ,\n",
    "         0.23892179],\n",
    "       [ 0.11943333,  0.29198961,  0.02605103,  0.26234032,  0.1351348 ,\n",
    "         0.16505091],\n",
    "       [ 0.09561176,  0.34396535,  0.0643941 ,  0.16240774,  0.24206137,\n",
    "         0.09155967]])\n",
    "```\n",
    "\n",
    "Running it through `sess.run(tf.nn.top_k(tf.constant(a), k=3))` produces:\n",
    "\n",
    "```\n",
    "TopKV2(values=array([[ 0.34763842,  0.24879643,  0.12789202],\n",
    "       [ 0.28086119,  0.27569815,  0.18063401],\n",
    "       [ 0.26076848,  0.23892179,  0.23664738],\n",
    "       [ 0.29198961,  0.26234032,  0.16505091],\n",
    "       [ 0.34396535,  0.24206137,  0.16240774]]), indices=array([[3, 0, 5],\n",
    "       [0, 1, 4],\n",
    "       [0, 5, 1],\n",
    "       [1, 3, 5],\n",
    "       [1, 4, 3]], dtype=int32))\n",
    "```\n",
    "\n",
    "Looking just at the first row we get `[ 0.34763842,  0.24879643,  0.12789202]`, you can confirm these are the 3 largest probabilities in `a`. You'll also notice `[3, 0, 5]` are the corresponding indices."
   ]
  },
  {
   "cell_type": "markdown",
   "metadata": {},
   "source": [
    "**Answer:**"
   ]
  },
  {
   "cell_type": "markdown",
   "metadata": {},
   "source": [
    "> **Note**: Once you have completed all of the code implementations and successfully answered each question above, you may finalize your work by exporting the iPython Notebook as an HTML document. You can do this by using the menu above and navigating to  \\n\",\n",
    "    \"**File -> Download as -> HTML (.html)**. Include the finished document along with this notebook as your submission."
   ]
  },
  {
   "cell_type": "code",
   "execution_count": null,
   "metadata": {
    "collapsed": true
   },
   "outputs": [],
   "source": []
  }
 ],
 "metadata": {
  "anaconda-cloud": {},
  "kernelspec": {
   "display_name": "Python 3",
   "language": "python",
   "name": "python3"
  },
  "language_info": {
   "codemirror_mode": {
    "name": "ipython",
    "version": 3
   },
   "file_extension": ".py",
   "mimetype": "text/x-python",
   "name": "python",
   "nbconvert_exporter": "python",
   "pygments_lexer": "ipython3",
   "version": "3.5.2"
  }
 },
 "nbformat": 4,
 "nbformat_minor": 1
}
